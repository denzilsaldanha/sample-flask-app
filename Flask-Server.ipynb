{
 "cells": [
  {
   "cell_type": "code",
   "execution_count": 18,
   "metadata": {},
   "outputs": [
    {
     "name": "stdout",
     "output_type": "stream",
     "text": [
      " * Serving Flask app \"__main__\" (lazy loading)\n",
      " * Environment: production\n",
      "   WARNING: This is a development server. Do not use it in a production deployment.\n",
      "   Use a production WSGI server instead.\n",
      " * Debug mode: off\n"
     ]
    },
    {
     "name": "stderr",
     "output_type": "stream",
     "text": [
      " * Running on http://0.0.0.0:5000/ (Press CTRL+C to quit)\n",
      "10.0.0.55 - - [27/Feb/2020 16:15:16] \"\u001b[37mPOST /hello HTTP/1.1\u001b[0m\" 200 -\n"
     ]
    },
    {
     "name": "stdout",
     "output_type": "stream",
     "text": [
      "{'data1': 'HI'}\n",
      "Received\n"
     ]
    },
    {
     "name": "stderr",
     "output_type": "stream",
     "text": [
      "10.0.0.55 - - [27/Feb/2020 16:16:43] \"\u001b[37mPOST /hello HTTP/1.1\u001b[0m\" 200 -\n"
     ]
    },
    {
     "name": "stdout",
     "output_type": "stream",
     "text": [
      "{'data1': 'HI'}\n",
      "Received\n"
     ]
    }
   ],
   "source": [
    "import requests\n",
    "from flask import Flask, request\n",
    "from flask_restplus import Resource, Api, fields\n",
    "\n",
    "app = Flask(__name__)\n",
    "api = Api(app,\n",
    "         default = \"Testing Program\",\n",
    "         title = \"Testing Raspberry pi Flask server\",\n",
    "         description = \"Application to test a python flask server on a raspberry pi.\")\n",
    "\n",
    "@api.route('/hello')\n",
    "class Example(Resource):\n",
    "    \n",
    "    @api.response(201, 'Ok')\n",
    "    @api.response(400, 'Validation Error')\n",
    "    def post(self):\n",
    "        data = request.get_json(force=True)\n",
    "        print(data)\n",
    "        print(\"Received\")\n",
    "\n",
    "\n",
    "if __name__=='__main__':\n",
    "    app.run(host = \"0.0.0.0\",port = \"5000\")"
   ]
  },
  {
   "cell_type": "code",
   "execution_count": null,
   "metadata": {},
   "outputs": [],
   "source": []
  },
  {
   "cell_type": "code",
   "execution_count": null,
   "metadata": {},
   "outputs": [],
   "source": []
  }
 ],
 "metadata": {
  "kernelspec": {
   "display_name": "Python 3",
   "language": "python",
   "name": "python3"
  },
  "language_info": {
   "codemirror_mode": {
    "name": "ipython",
    "version": 3
   },
   "file_extension": ".py",
   "mimetype": "text/x-python",
   "name": "python",
   "nbconvert_exporter": "python",
   "pygments_lexer": "ipython3",
   "version": "3.7.4"
  }
 },
 "nbformat": 4,
 "nbformat_minor": 2
}
